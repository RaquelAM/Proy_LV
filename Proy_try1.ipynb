{
 "cells": [
  {
   "cell_type": "markdown",
   "metadata": {},
   "source": [
    "##LOTKA-VOLTERRA:MODELO DEPREDADOR-PRESA\n",
    "###ANÁLISIS DE ESTABILIDAD:\n",
    "\n",
    "###Caso 1: Crecimimiento y muerte exponencial de la presa y depredador, respectivamente:"
   ]
  },
  {
   "cell_type": "code",
   "execution_count": 84,
   "metadata": {
    "collapsed": false
   },
   "outputs": [
    {
     "name": "stderr",
     "output_type": "stream",
     "text": [
      "INFO: Loading help data...\n"
     ]
    }
   ],
   "source": [
    "using TaylorSeries\n",
    "using PyPlot"
   ]
  },
  {
   "cell_type": "markdown",
   "metadata": {},
   "source": [
    "Las ecuaciones de Lotka-Volterra en su caso más sencillo están dadas por:\n",
    "\n",
    "$$ \\dot x=ax-bxy$$\n",
    "$$ \\dot y=-cy+dxy$$"
   ]
  },
  {
   "cell_type": "markdown",
   "metadata": {},
   "source": [
    "A continuación se hará el análisis de estabilidad y se implementará código para integrar las ecuaciones usando TaylorSeries:"
   ]
  },
  {
   "cell_type": "code",
   "execution_count": 187,
   "metadata": {
    "collapsed": false
   },
   "outputs": [
    {
     "data": {
      "text/plain": [
       "1"
      ]
     },
     "execution_count": 187,
     "metadata": {},
     "output_type": "execute_result"
    }
   ],
   "source": [
    "#primerofijamos las constantes a 1\n",
    "a = 1\n",
    "b = 1\n",
    "c = 1\n",
    "d = 1\n"
   ]
  },
  {
   "cell_type": "code",
   "execution_count": 190,
   "metadata": {
    "collapsed": false
   },
   "outputs": [
    {
     "data": {
      "text/plain": [
       "dX_dt (generic function with 2 methods)"
      ]
     },
     "execution_count": 190,
     "metadata": {},
     "output_type": "execute_result"
    }
   ],
   "source": [
    "function dX_dt(X,t=0)\n",
    "    \"\"\" regresa el crecimiento de la población de la presa y depredador\"\"\"\n",
    "\n",
    "    [ a*X[1]-b*X[1]*X[2], -c*X[2]+d*X[1]*X[2] ]\n",
    "end"
   ]
  },
  {
   "cell_type": "code",
   "execution_count": 189,
   "metadata": {
    "collapsed": false
   },
   "outputs": [
    {
     "data": {
      "text/plain": [
       "2-element Array{Float64,1}:\n",
       " 1.0\n",
       " 1.0"
      ]
     },
     "execution_count": 189,
     "metadata": {},
     "output_type": "execute_result"
    }
   ],
   "source": [
    "X_f0 =[0.0 ,0.0]         #Igualando el sistema a 0, los puntos de equilibrio son (0,0) y (c/a,a/b)\n",
    "X_f1 = [c/a,a/b]\n"
   ]
  },
  {
   "cell_type": "code",
   "execution_count": 180,
   "metadata": {
    "collapsed": false
   },
   "outputs": [
    {
     "data": {
      "text/plain": [
       "d2X_dt2 (generic function with 2 methods)"
      ]
     },
     "execution_count": 180,
     "metadata": {},
     "output_type": "execute_result"
    }
   ],
   "source": [
    "function d2X_dt2(X,t=0)   #Definimos la matriz Jacobiana             \n",
    "    [a-b*X[2] -b*X[1];d*X[2] -c+d*X[1]]\n",
    "end"
   ]
  },
  {
   "cell_type": "code",
   "execution_count": 181,
   "metadata": {
    "collapsed": false
   },
   "outputs": [
    {
     "data": {
      "text/plain": [
       "2x2 Array{Float64,2}:\n",
       " 1.0  -0.0\n",
       " 0.0  -1.0"
      ]
     },
     "execution_count": 181,
     "metadata": {},
     "output_type": "execute_result"
    }
   ],
   "source": [
    "A=d2X_dt2(X_f0) #Evaluamos la Jacobiana en X_f0"
   ]
  },
  {
   "cell_type": "code",
   "execution_count": 182,
   "metadata": {
    "collapsed": false
   },
   "outputs": [
    {
     "data": {
      "text/plain": [
       "([-1.0,1.0],\n",
       "2x2 Array{Float64,2}:\n",
       " -0.0  -1.0\n",
       " -1.0   0.0)"
      ]
     },
     "execution_count": 182,
     "metadata": {},
     "output_type": "execute_result"
    }
   ],
   "source": [
    "eig(A)        #Obtenemos los eigenvalores-vectores"
   ]
  },
  {
   "cell_type": "markdown",
   "metadata": {},
   "source": [
    "Lo anterior nos dice que el (0,0) es un punto silla. Ahora hacemos lo mismo pero para el punto de equilibrio (c/a,a/b):"
   ]
  },
  {
   "cell_type": "code",
   "execution_count": 185,
   "metadata": {
    "collapsed": false
   },
   "outputs": [
    {
     "data": {
      "text/plain": [
       "2x2 Array{Float64,2}:\n",
       " 0.0  -1.0\n",
       " 1.0   0.0"
      ]
     },
     "execution_count": 185,
     "metadata": {},
     "output_type": "execute_result"
    }
   ],
   "source": [
    "B=d2X_dt2(X_f1) #Evaluamos la Jacobiana en X_f1"
   ]
  },
  {
   "cell_type": "code",
   "execution_count": 186,
   "metadata": {
    "collapsed": false
   },
   "outputs": [
    {
     "data": {
      "text/plain": [
       "(Complex{Float64}[0.0+1.0im,0.0-1.0im],\n",
       "2x2 Array{Complex{Float64},2}:\n",
       " 0.707107+0.0im       0.707107-0.0im     \n",
       "      0.0-0.707107im       0.0+0.707107im)"
      ]
     },
     "execution_count": 186,
     "metadata": {},
     "output_type": "execute_result"
    }
   ],
   "source": [
    "eig(B)        #Obtenemos los eigenvalores-vectores"
   ]
  },
  {
   "cell_type": "markdown",
   "metadata": {},
   "source": [
    "Se observa que X_f2 es un punto estable, y las poblaciones de presa-predador son periódicas ya que los eigenvalores tienen parte real 0."
   ]
  },
  {
   "cell_type": "markdown",
   "metadata": {},
   "source": [
    "Integramos primero para un x0:"
   ]
  },
  {
   "cell_type": "code",
   "execution_count": 191,
   "metadata": {
    "collapsed": false
   },
   "outputs": [
    {
     "data": {
      "text/plain": [
       "1000-element Array{Float64,1}:\n",
       "  0.0      \n",
       "  0.015015 \n",
       "  0.03003  \n",
       "  0.045045 \n",
       "  0.0600601\n",
       "  0.0750751\n",
       "  0.0900901\n",
       "  0.105105 \n",
       "  0.12012  \n",
       "  0.135135 \n",
       "  0.15015  \n",
       "  0.165165 \n",
       "  0.18018  \n",
       "  ⋮        \n",
       " 14.8348   \n",
       " 14.8498   \n",
       " 14.8649   \n",
       " 14.8799   \n",
       " 14.8949   \n",
       " 14.9099   \n",
       " 14.9249   \n",
       " 14.9399   \n",
       " 14.955    \n",
       " 14.97     \n",
       " 14.985    \n",
       " 15.0      "
      ]
     },
     "execution_count": 191,
     "metadata": {},
     "output_type": "execute_result"
    }
   ],
   "source": [
    "linspace(0,15,1000) #Definimos un vector de t"
   ]
  },
  {
   "cell_type": "code",
   "execution_count": 193,
   "metadata": {
    "collapsed": false
   },
   "outputs": [
    {
     "data": {
      "text/plain": [
       "2-element Array{Int64,1}:\n",
       " 10\n",
       "  5"
      ]
     },
     "execution_count": 193,
     "metadata": {},
     "output_type": "execute_result"
    }
   ],
   "source": [
    "t = linspace(0, 15,  1000)              # tiempo\n",
    "X0 = [10, 5]                            # condiciones iniciales"
   ]
  },
  {
   "cell_type": "code",
   "execution_count": 207,
   "metadata": {
    "collapsed": false
   },
   "outputs": [
    {
     "data": {
      "text/plain": [
       "affine (generic function with 1 method)"
      ]
     },
     "execution_count": 207,
     "metadata": {},
     "output_type": "execute_result"
    }
   ],
   "source": [
    "affine(a)=a+taylor1_variable(typeof(a),7)"
   ]
  },
  {
   "cell_type": "code",
   "execution_count": 208,
   "metadata": {
    "collapsed": false
   },
   "outputs": [
    {
     "data": {
      "text/plain": [
       " 1.0 t + 𝒪(t⁸)"
      ]
     },
     "execution_count": 208,
     "metadata": {},
     "output_type": "execute_result"
    }
   ],
   "source": [
    "affine(0.0)"
   ]
  },
  {
   "cell_type": "code",
   "execution_count": 209,
   "metadata": {
    "collapsed": false
   },
   "outputs": [
    {
     "data": {
      "text/plain": [
       "2-element Array{Int64,1}:\n",
       " -40\n",
       "  45"
      ]
     },
     "execution_count": 209,
     "metadata": {},
     "output_type": "execute_result"
    }
   ],
   "source": [
    "dX_dt([10,5])"
   ]
  },
  {
   "cell_type": "code",
   "execution_count": null,
   "metadata": {
    "collapsed": true
   },
   "outputs": [],
   "source": []
  }
 ],
 "metadata": {
  "kernelspec": {
   "display_name": "Julia 0.3.11",
   "language": "julia",
   "name": "julia-0.3"
  },
  "language_info": {
   "name": "julia",
   "version": "0.3.11"
  }
 },
 "nbformat": 4,
 "nbformat_minor": 0
}
